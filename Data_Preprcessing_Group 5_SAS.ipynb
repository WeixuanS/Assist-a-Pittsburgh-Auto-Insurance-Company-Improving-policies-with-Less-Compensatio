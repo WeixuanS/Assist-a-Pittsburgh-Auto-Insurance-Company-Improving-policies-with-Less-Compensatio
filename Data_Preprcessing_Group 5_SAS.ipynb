{
 "cells": [
  {
   "cell_type": "markdown",
   "metadata": {},
   "source": [
    "# Data Wrangling for 94832 SAS Group Project\n",
    "- Author: Menglin Marianne Liu"
   ]
  },
  {
   "cell_type": "markdown",
   "metadata": {},
   "source": [
    "# Reading the dataset"
   ]
  },
  {
   "cell_type": "code",
   "execution_count": 7,
   "metadata": {},
   "outputs": [
    {
     "name": "stderr",
     "output_type": "stream",
     "text": [
      "/Users/Lisa/anaconda3/lib/python3.7/site-packages/IPython/core/interactiveshell.py:3020: DtypeWarning: Columns (79,183) have mixed types. Specify dtype option on import or set low_memory=False.\n",
      "  interactivity=interactivity, compiler=compiler, result=result)\n"
     ]
    }
   ],
   "source": [
    "import pandas as pd\n",
    "df = pd.read_csv('Raw Data.csv',encoding = 'utf-8')\n",
    "municipality = pd.read_csv('municipality_codes.csv',encoding = 'utf-8')"
   ]
  },
  {
   "cell_type": "code",
   "execution_count": 8,
   "metadata": {},
   "outputs": [
    {
     "data": {
      "text/plain": [
       "(170365, 190)"
      ]
     },
     "execution_count": 8,
     "metadata": {},
     "output_type": "execute_result"
    }
   ],
   "source": [
    "df.shape"
   ]
  },
  {
   "cell_type": "markdown",
   "metadata": {},
   "source": [
    "# Merging two datasets"
   ]
  },
  {
   "cell_type": "code",
   "execution_count": 9,
   "metadata": {},
   "outputs": [],
   "source": [
    "df= pd.merge(df, municipality, on='MUNICIPALITY')"
   ]
  },
  {
   "cell_type": "code",
   "execution_count": 10,
   "metadata": {},
   "outputs": [],
   "source": [
    "# select columns based on data dictionary\n",
    "columns = ['AGGRESSIVE_DRIVING','ALCOHOL_RELATED','AUTOMOBILE_COUNT',\n",
    "           'CELL_PHONE','COLLISION_TYPE','CRASH_CRN','CRASH_MONTH',\n",
    "          'CRASH_YEAR','DAY_OF_WEEK','DISTRACTED','DEER_RELATED','INJURY_OR_FATAL',\n",
    "          'MAJOR_INJURY', 'MODERATE_INJURY','MINOR_INJURY','DRIVER_16YR','MUNICIPALITY','Municipality_Name',\n",
    "          'DRIVER_17YR', 'DRIVER_65_74YR','DRIVER_75PLUS','MUNICIPALITY','HIT_DEER',\n",
    "          'HOUR_OF_DAY','ILLEGAL_DRUG_RELATED','ILLUMINATION_DARK','INTERSECT_TYPE','PEDESTRIAN',\n",
    "          'INTERSECTION','LOCATION_TYPE','ROAD_CONDITION','SPEEDING_RELATED','HIT_TREE_SHRUB',\n",
    "          'URBAN_RURAL','WEATHER']\n",
    "df = df[columns]"
   ]
  },
  {
   "cell_type": "code",
   "execution_count": 11,
   "metadata": {},
   "outputs": [
    {
     "data": {
      "text/plain": [
       "(74273, 35)"
      ]
     },
     "execution_count": 11,
     "metadata": {},
     "output_type": "execute_result"
    }
   ],
   "source": [
    "# select the accidents happening in the intersection\n",
    "df = df[(df['INTERSECTION']== 1)]\n",
    "df.shape"
   ]
  },
  {
   "cell_type": "markdown",
   "metadata": {},
   "source": [
    "# Categorical encoding"
   ]
  },
  {
   "cell_type": "code",
   "execution_count": 12,
   "metadata": {},
   "outputs": [],
   "source": [
    "# Categorical encoding\n",
    "collision_type={0 : \"Non collision\", 1 : \"Rear-end\", 2 : \"Head-on\", 3 : \"Rear-to-rear (Backing)\", \n",
    "                4 : \"Angle\", 5 : \"Sideswipe (same dir.)\", 6 : \"Sideswipe (Opposite dir.)\", \n",
    "                7 : \"Hit fixed object\", 8 : \"Hit pedestrian\", 9 : \"Other or Unknown\"}\n",
    "day_of_week={1 : \"Sunday\", 2 : \"Monday\", 3 : \"Tuesday\", 4 : \"Wednesday\", \n",
    "             5 : \"Thursday\", 6 : \"Friday\", 7 : \"Saturday\"}\n",
    "intersect_type={0 : \"Mid-block\", 1 : \"Four way intersection\", 2 : \"T intersection\", 3 : \"Y intersection\", \n",
    "                4 : \"Traffic circle or Round About\", 5 : \"Multi-leg intersection\", 6 : \"On ramp\", \n",
    "                7 : \"Off ramp\", 8 : \"Crossover\", 9 : \"Railroad crossing\", 10 : \"Other\", 99 : \"Unknown (expired)\"}\n",
    "weather={1 : \"No adverse conditions\", 2 : \"Rain\", 3 : \"Sleet (hail)\", 4 : \"Snow\", \n",
    "         5 : \"Fog\", 6 : \"Rain and fog\", 7 : \"Sleet and fog\", 8 : \"Other\", 9 : \"Unknown\"}"
   ]
  },
  {
   "cell_type": "code",
   "execution_count": 13,
   "metadata": {},
   "outputs": [],
   "source": [
    "replace={\"COLLISION_TYPE\" : collision_type, \"DAY_OF_WEEK\" : day_of_week,  \n",
    "         \"INTERSECT_TYPE\" : intersect_type, \"WEATHER\" : weather}\n",
    "df = df.replace(replace)"
   ]
  },
  {
   "cell_type": "code",
   "execution_count": 14,
   "metadata": {},
   "outputs": [
    {
     "data": {
      "text/html": [
       "<div>\n",
       "<style scoped>\n",
       "    .dataframe tbody tr th:only-of-type {\n",
       "        vertical-align: middle;\n",
       "    }\n",
       "\n",
       "    .dataframe tbody tr th {\n",
       "        vertical-align: top;\n",
       "    }\n",
       "\n",
       "    .dataframe thead th {\n",
       "        text-align: right;\n",
       "    }\n",
       "</style>\n",
       "<table border=\"1\" class=\"dataframe\">\n",
       "  <thead>\n",
       "    <tr style=\"text-align: right;\">\n",
       "      <th></th>\n",
       "      <th>AGGRESSIVE_DRIVING</th>\n",
       "      <th>ALCOHOL_RELATED</th>\n",
       "      <th>AUTOMOBILE_COUNT</th>\n",
       "      <th>CELL_PHONE</th>\n",
       "      <th>COLLISION_TYPE</th>\n",
       "      <th>CRASH_CRN</th>\n",
       "      <th>CRASH_MONTH</th>\n",
       "      <th>CRASH_YEAR</th>\n",
       "      <th>DAY_OF_WEEK</th>\n",
       "      <th>DISTRACTED</th>\n",
       "      <th>...</th>\n",
       "      <th>ILLUMINATION_DARK</th>\n",
       "      <th>INTERSECT_TYPE</th>\n",
       "      <th>PEDESTRIAN</th>\n",
       "      <th>INTERSECTION</th>\n",
       "      <th>LOCATION_TYPE</th>\n",
       "      <th>ROAD_CONDITION</th>\n",
       "      <th>SPEEDING_RELATED</th>\n",
       "      <th>HIT_TREE_SHRUB</th>\n",
       "      <th>URBAN_RURAL</th>\n",
       "      <th>WEATHER</th>\n",
       "    </tr>\n",
       "  </thead>\n",
       "  <tbody>\n",
       "    <tr>\n",
       "      <th>2</th>\n",
       "      <td>1</td>\n",
       "      <td>1</td>\n",
       "      <td>1</td>\n",
       "      <td>0</td>\n",
       "      <td>Hit fixed object</td>\n",
       "      <td>2004000271</td>\n",
       "      <td>1</td>\n",
       "      <td>2004</td>\n",
       "      <td>Sunday</td>\n",
       "      <td>1</td>\n",
       "      <td>...</td>\n",
       "      <td>1</td>\n",
       "      <td>T intersection</td>\n",
       "      <td>0</td>\n",
       "      <td>1</td>\n",
       "      <td>0</td>\n",
       "      <td>1</td>\n",
       "      <td>1</td>\n",
       "      <td>0</td>\n",
       "      <td>3</td>\n",
       "      <td>Rain</td>\n",
       "    </tr>\n",
       "    <tr>\n",
       "      <th>5</th>\n",
       "      <td>1</td>\n",
       "      <td>0</td>\n",
       "      <td>2</td>\n",
       "      <td>0</td>\n",
       "      <td>Angle</td>\n",
       "      <td>2004000731</td>\n",
       "      <td>1</td>\n",
       "      <td>2004</td>\n",
       "      <td>Friday</td>\n",
       "      <td>0</td>\n",
       "      <td>...</td>\n",
       "      <td>0</td>\n",
       "      <td>T intersection</td>\n",
       "      <td>0</td>\n",
       "      <td>1</td>\n",
       "      <td>0</td>\n",
       "      <td>0</td>\n",
       "      <td>0</td>\n",
       "      <td>0</td>\n",
       "      <td>3</td>\n",
       "      <td>No adverse conditions</td>\n",
       "    </tr>\n",
       "    <tr>\n",
       "      <th>7</th>\n",
       "      <td>0</td>\n",
       "      <td>1</td>\n",
       "      <td>1</td>\n",
       "      <td>0</td>\n",
       "      <td>Hit fixed object</td>\n",
       "      <td>2004001114</td>\n",
       "      <td>1</td>\n",
       "      <td>2004</td>\n",
       "      <td>Wednesday</td>\n",
       "      <td>0</td>\n",
       "      <td>...</td>\n",
       "      <td>1</td>\n",
       "      <td>T intersection</td>\n",
       "      <td>0</td>\n",
       "      <td>1</td>\n",
       "      <td>0</td>\n",
       "      <td>0</td>\n",
       "      <td>0</td>\n",
       "      <td>0</td>\n",
       "      <td>3</td>\n",
       "      <td>No adverse conditions</td>\n",
       "    </tr>\n",
       "    <tr>\n",
       "      <th>13</th>\n",
       "      <td>0</td>\n",
       "      <td>0</td>\n",
       "      <td>1</td>\n",
       "      <td>0</td>\n",
       "      <td>Hit pedestrian</td>\n",
       "      <td>2004002411</td>\n",
       "      <td>2</td>\n",
       "      <td>2004</td>\n",
       "      <td>Friday</td>\n",
       "      <td>0</td>\n",
       "      <td>...</td>\n",
       "      <td>1</td>\n",
       "      <td>T intersection</td>\n",
       "      <td>1</td>\n",
       "      <td>1</td>\n",
       "      <td>0</td>\n",
       "      <td>1</td>\n",
       "      <td>0</td>\n",
       "      <td>0</td>\n",
       "      <td>3</td>\n",
       "      <td>Rain</td>\n",
       "    </tr>\n",
       "    <tr>\n",
       "      <th>15</th>\n",
       "      <td>1</td>\n",
       "      <td>0</td>\n",
       "      <td>2</td>\n",
       "      <td>0</td>\n",
       "      <td>Angle</td>\n",
       "      <td>2004002533</td>\n",
       "      <td>2</td>\n",
       "      <td>2004</td>\n",
       "      <td>Tuesday</td>\n",
       "      <td>0</td>\n",
       "      <td>...</td>\n",
       "      <td>1</td>\n",
       "      <td>T intersection</td>\n",
       "      <td>0</td>\n",
       "      <td>1</td>\n",
       "      <td>0</td>\n",
       "      <td>0</td>\n",
       "      <td>0</td>\n",
       "      <td>0</td>\n",
       "      <td>3</td>\n",
       "      <td>No adverse conditions</td>\n",
       "    </tr>\n",
       "  </tbody>\n",
       "</table>\n",
       "<p>5 rows × 35 columns</p>\n",
       "</div>"
      ],
      "text/plain": [
       "    AGGRESSIVE_DRIVING  ALCOHOL_RELATED  AUTOMOBILE_COUNT  CELL_PHONE  \\\n",
       "2                    1                1                 1           0   \n",
       "5                    1                0                 2           0   \n",
       "7                    0                1                 1           0   \n",
       "13                   0                0                 1           0   \n",
       "15                   1                0                 2           0   \n",
       "\n",
       "      COLLISION_TYPE   CRASH_CRN  CRASH_MONTH  CRASH_YEAR DAY_OF_WEEK  \\\n",
       "2   Hit fixed object  2004000271            1        2004      Sunday   \n",
       "5              Angle  2004000731            1        2004      Friday   \n",
       "7   Hit fixed object  2004001114            1        2004   Wednesday   \n",
       "13    Hit pedestrian  2004002411            2        2004      Friday   \n",
       "15             Angle  2004002533            2        2004     Tuesday   \n",
       "\n",
       "    DISTRACTED          ...            ILLUMINATION_DARK  INTERSECT_TYPE  \\\n",
       "2            1          ...                            1  T intersection   \n",
       "5            0          ...                            0  T intersection   \n",
       "7            0          ...                            1  T intersection   \n",
       "13           0          ...                            1  T intersection   \n",
       "15           0          ...                            1  T intersection   \n",
       "\n",
       "    PEDESTRIAN  INTERSECTION  LOCATION_TYPE  ROAD_CONDITION  SPEEDING_RELATED  \\\n",
       "2            0             1              0               1                 1   \n",
       "5            0             1              0               0                 0   \n",
       "7            0             1              0               0                 0   \n",
       "13           1             1              0               1                 0   \n",
       "15           0             1              0               0                 0   \n",
       "\n",
       "   HIT_TREE_SHRUB  URBAN_RURAL                WEATHER  \n",
       "2               0            3                   Rain  \n",
       "5               0            3  No adverse conditions  \n",
       "7               0            3  No adverse conditions  \n",
       "13              0            3                   Rain  \n",
       "15              0            3  No adverse conditions  \n",
       "\n",
       "[5 rows x 35 columns]"
      ]
     },
     "execution_count": 14,
     "metadata": {},
     "output_type": "execute_result"
    }
   ],
   "source": [
    "# showing the end result\n",
    "df.head()"
   ]
  },
  {
   "cell_type": "markdown",
   "metadata": {},
   "source": [
    "# Write result to the csv file"
   ]
  },
  {
   "cell_type": "code",
   "execution_count": 88,
   "metadata": {},
   "outputs": [],
   "source": [
    "df = pd.read_csv('clean_intersection_latest.csv',encoding = 'utf-8')"
   ]
  }
 ],
 "metadata": {
  "kernelspec": {
   "display_name": "Python 3",
   "language": "python",
   "name": "python3"
  },
  "language_info": {
   "codemirror_mode": {
    "name": "ipython",
    "version": 3
   },
   "file_extension": ".py",
   "mimetype": "text/x-python",
   "name": "python",
   "nbconvert_exporter": "python",
   "pygments_lexer": "ipython3",
   "version": "3.7.1"
  }
 },
 "nbformat": 4,
 "nbformat_minor": 2
}
